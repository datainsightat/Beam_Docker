{
 "cells": [
  {
   "cell_type": "code",
   "execution_count": 25,
   "id": "5907105d-e692-4cfc-b467-63d1e39c6c7e",
   "metadata": {},
   "outputs": [
    {
     "name": "stderr",
     "output_type": "stream",
     "text": [
      "WARNING:root:Make sure that locally built Python SDK docker image has Python 3.8 interpreter.\n"
     ]
    },
    {
     "name": "stdout",
     "output_type": "stream",
     "text": [
      "('Marco', 31)\n",
      "('Rebekah', 31)\n",
      "('Itoe', 31)\n",
      "('Edouard', 31)\n",
      "('Kyle', 62)\n"
     ]
    }
   ],
   "source": [
    "import apache_beam as beam\n",
    "\n",
    "def SplitRow(element):\n",
    "  return element.split(',')\n",
    "\n",
    "def filtering(record):\n",
    "  return record[3] == 'Accounts'\n",
    "\n",
    "with beam.Pipeline() as p1:\n",
    "\n",
    "  attendance_count = (\n",
    "      p1\n",
    "      | 'Read from file' >> beam.io.ReadFromText('data/dept_data.txt')\n",
    "      | 'Map transform Split' >> beam.Map(SplitRow)\n",
    "      #| beam.FlatMap(SplitRow)\n",
    "      #| beam.Map(lambda record: record.split(','))\n",
    "      | 'Filter' >> beam.Filter(filtering)\n",
    "      #| beam.Filter(lambda record: record[3] == 'Accounts')\n",
    "      | beam.Map(lambda record:(record[1],1))\n",
    "      | beam.CombinePerKey(sum)\n",
    "      | beam.io.WriteToText('output_new')\n",
    "  )\n",
    "\n",
    "!{('head -n 5 output_new-00000-of-00001')}"
   ]
  },
  {
   "cell_type": "code",
   "execution_count": null,
   "id": "16b99bce-8820-4c6a-a53c-e1a4c5f25519",
   "metadata": {},
   "outputs": [],
   "source": []
  }
 ],
 "metadata": {
  "kernelspec": {
   "display_name": "Python 3 (ipykernel)",
   "language": "python",
   "name": "python3"
  },
  "language_info": {
   "codemirror_mode": {
    "name": "ipython",
    "version": 3
   },
   "file_extension": ".py",
   "mimetype": "text/x-python",
   "name": "python",
   "nbconvert_exporter": "python",
   "pygments_lexer": "ipython3",
   "version": "3.8.10"
  }
 },
 "nbformat": 4,
 "nbformat_minor": 5
}
