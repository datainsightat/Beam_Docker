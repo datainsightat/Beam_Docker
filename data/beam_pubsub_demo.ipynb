{
 "cells": [
  {
   "cell_type": "code",
   "execution_count": 5,
   "id": "bea9de8e-5067-450f-a540-190dc8e17225",
   "metadata": {},
   "outputs": [
    {
     "name": "stdout",
     "output_type": "stream",
     "text": [
      "Executing: /usr/lib/google-cloud-sdk/platform/pubsub-emulator/bin/cloud-pubsub-emulator --host=::1 --port=8109\n",
      "[pubsub] This is the Google Pub/Sub fake.\n",
      "[pubsub] Implementation may be incomplete or differ from the real system.\n",
      "[pubsub] Feb 16, 2022 2:52:14 PM com.google.cloud.pubsub.testing.v1.Main main\n",
      "[pubsub] INFO: IAM integration is disabled. IAM policy methods and ACL checks are not supported\n",
      "[pubsub] SLF4J: Failed to load class \"org.slf4j.impl.StaticLoggerBinder\".\n",
      "[pubsub] SLF4J: Defaulting to no-operation (NOP) logger implementation\n",
      "[pubsub] SLF4J: See http://www.slf4j.org/codes.html#StaticLoggerBinder for further details.\n",
      "[pubsub] Exception in thread \"main\" java.io.IOException: Failed to bind to address /0:0:0:0:0:0:0:1:0\n",
      "[pubsub] \tat io.grpc.netty.NettyServer.start(NettyServer.java:268)\n",
      "[pubsub] \tat io.grpc.internal.ServerImpl.start(ServerImpl.java:183)\n",
      "[pubsub] \tat io.grpc.internal.ServerImpl.start(ServerImpl.java:90)\n",
      "[pubsub] \tat io.gapi.emulators.grpc.GrpcServer.start(GrpcServer.java:178)\n",
      "[pubsub] \tat com.google.cloud.pubsub.testing.v1.Main.main(Main.java:223)\n",
      "[pubsub] Caused by: java.net.SocketException: Protocol family unavailable\n",
      "[pubsub] \tat sun.nio.ch.Net.bind0(Native Method)\n",
      "[pubsub] \tat sun.nio.ch.Net.bind(Net.java:461)\n",
      "[pubsub] \tat sun.nio.ch.Net.bind(Net.java:453)\n",
      "[pubsub] \tat sun.nio.ch.ServerSocketChannelImpl.bind(ServerSocketChannelImpl.java:222)\n",
      "[pubsub] \tat io.netty.channel.socket.nio.NioServerSocketChannel.doBind(NioServerSocketChannel.java:134)\n",
      "[pubsub] \tat io.netty.channel.AbstractChannel$AbstractUnsafe.bind(AbstractChannel.java:550)\n",
      "[pubsub] \tat io.netty.channel.DefaultChannelPipeline$HeadContext.bind(DefaultChannelPipeline.java:1334)\n",
      "[pubsub] \tat io.netty.channel.AbstractChannelHandlerContext.invokeBind(AbstractChannelHandlerContext.java:506)\n",
      "[pubsub] \tat io.netty.channel.AbstractChannelHandlerContext.bind(AbstractChannelHandlerContext.java:491)\n",
      "[pubsub] \tat io.netty.channel.DefaultChannelPipeline.bind(DefaultChannelPipeline.java:973)\n",
      "[pubsub] \tat io.netty.channel.AbstractChannel.bind(AbstractChannel.java:248)\n",
      "[pubsub] \tat io.netty.bootstrap.AbstractBootstrap$2.run(AbstractBootstrap.java:356)\n",
      "[pubsub] \tat io.netty.util.concurrent.AbstractEventExecutor.safeExecute(AbstractEventExecutor.java:164)\n",
      "[pubsub] \tat io.netty.util.concurrent.SingleThreadEventExecutor.runAllTasks(SingleThreadEventExecutor.java:472)\n",
      "[pubsub] \tat io.netty.channel.nio.NioEventLoop.run(NioEventLoop.java:500)\n",
      "[pubsub] \tat io.netty.util.concurrent.SingleThreadEventExecutor$4.run(SingleThreadEventExecutor.java:989)\n",
      "[pubsub] \tat io.netty.util.internal.ThreadExecutorMap$2.run(ThreadExecutorMap.java:74)\n",
      "[pubsub] \tat io.netty.util.concurrent.FastThreadLocalRunnable.run(FastThreadLocalRunnable.java:30)\n",
      "[pubsub] \tat java.lang.Thread.run(Thread.java:748)\n",
      "^C\n"
     ]
    }
   ],
   "source": [
    "!{'gcloud beta emulators pubsub start --project=myproject'}"
   ]
  },
  {
   "cell_type": "code",
   "execution_count": 8,
   "id": "65a2b447-6adc-4b40-88a1-52dca3ca960f",
   "metadata": {},
   "outputs": [],
   "source": [
    "!{'$(gcloud beta emulators pubsub env-init)'}"
   ]
  },
  {
   "cell_type": "code",
   "execution_count": null,
   "id": "4617d097-6bab-4ac1-a40e-ebb3a3e6ed81",
   "metadata": {},
   "outputs": [],
   "source": []
  }
 ],
 "metadata": {
  "kernelspec": {
   "display_name": "Python 3 (ipykernel)",
   "language": "python",
   "name": "python3"
  },
  "language_info": {
   "codemirror_mode": {
    "name": "ipython",
    "version": 3
   },
   "file_extension": ".py",
   "mimetype": "text/x-python",
   "name": "python",
   "nbconvert_exporter": "python",
   "pygments_lexer": "ipython3",
   "version": "3.8.10"
  }
 },
 "nbformat": 4,
 "nbformat_minor": 5
}
