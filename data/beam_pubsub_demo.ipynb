{
 "cells": [
  {
   "cell_type": "markdown",
   "id": "0891ec4e",
   "metadata": {},
   "source": [
    "## PubSub\n",
    "\n",
    "### Start PubSub Server on Host\n",
    "\n",
    "    docker container exec -it beam /bin/bash\n",
    "    gcloud beta emulators pubsub start --project=myproject\n",
    "    \n",
    "### Create Topic\n",
    "\n",
    "    docker container exec -it beam /bin/bash\n",
    "    source env/bin/activate\n",
    "    $(gcloud beta emulators pubsub env-init)\n",
    "    cd /opt/python-pubsub/samples/snippets/\n",
    "    python publisher.py myproject create mytopic\n",
    "    \n",
    "### Create Subscription\n",
    "\n",
    "    python subscriber.py myproject create mytopic mysubscription\n",
    "    \n",
    "### Publish Message\n",
    "\n",
    "    python publisher.py myproject publish mytopic"
   ]
  },
  {
   "cell_type": "code",
   "execution_count": 8,
   "id": "65a2b447-6adc-4b40-88a1-52dca3ca960f",
   "metadata": {},
   "outputs": [],
   "source": [
    "!{'$(gcloud beta emulators pubsub env-init)'}"
   ]
  },
  {
   "cell_type": "code",
   "execution_count": null,
   "id": "4617d097-6bab-4ac1-a40e-ebb3a3e6ed81",
   "metadata": {},
   "outputs": [],
   "source": []
  }
 ],
 "metadata": {
  "kernelspec": {
   "display_name": "Python 3 (ipykernel)",
   "language": "python",
   "name": "python3"
  },
  "language_info": {
   "codemirror_mode": {
    "name": "ipython",
    "version": 3
   },
   "file_extension": ".py",
   "mimetype": "text/x-python",
   "name": "python",
   "nbconvert_exporter": "python",
   "pygments_lexer": "ipython3",
   "version": "3.8.10"
  }
 },
 "nbformat": 4,
 "nbformat_minor": 5
}
